{
 "cells": [
  {
   "cell_type": "code",
   "execution_count": 28,
   "id": "fea3af9d-e399-41e8-9c68-958f8cf846f6",
   "metadata": {},
   "outputs": [],
   "source": [
    "import os\n",
    "import numpy as np\n",
    "import pandas as pd"
   ]
  },
  {
   "cell_type": "code",
   "execution_count": 29,
   "id": "c1ed82c6-f512-45c5-8e67-4f8d2e535b2e",
   "metadata": {},
   "outputs": [],
   "source": [
    "filenameTR='uniprot_trembl.fasta'\n",
    "#filenameTR='uniprot_sprot_v2.fasta'\n",
    "filenameSP='uniprot_sprot.fasta'"
   ]
  },
  {
   "cell_type": "code",
   "execution_count": 30,
   "id": "b06e0e2d-88fa-4f36-b11a-907b45953560",
   "metadata": {},
   "outputs": [
    {
     "name": "stdout",
     "output_type": "stream",
     "text": [
      "561911 565254\n"
     ]
    }
   ],
   "source": [
    "uniprotIds=[]\n",
    "uniprotAccessions=[]\n",
    "\n",
    "#Abrimos el archivo de TremblProt\n",
    "\n",
    "fileTR = open(filenameTR, 'r')\n",
    "linesTR = fileTR.readlines()\n",
    "\n",
    "countTR=0\n",
    "for line in linesTR:\n",
    "    line=line.strip()\n",
    "    inicio=line.find('>')\n",
    "    \n",
    "    if (inicio>-1): #Es encabezado\n",
    "        countTR += 1\n",
    "        flag1=line.find('|')\n",
    "        flag2=line.find('|',flag1+1)\n",
    "        flag3=line.find(' ',flag2+1)\n",
    "\n",
    "        accession_uni=(line.strip())[flag1+1:flag2]\n",
    "        id_uni=(line.strip())[flag2+1:flag3]\n",
    "\n",
    "        uniprotAccessions.append(accession_uni)\n",
    "        uniprotIds.append(id_uni)    \n",
    "\n",
    "fileTR.close()\n",
    "\n",
    "#Abrimos el archivo de SwissProt\n",
    "        \n",
    "fileSP = open(filenameSP, 'r')\n",
    "linesSP = fileSP.readlines()\n",
    "\n",
    "countSP = 0\n",
    "for line in linesSP:\n",
    "    line=line.strip()\n",
    "    inicio=line.find('>')\n",
    "\n",
    "    if (inicio>-1): #Es encabezado\n",
    "        countSP += 1\n",
    "        flag1=line.find('|')\n",
    "        flag2=line.find('|',flag1+1)\n",
    "        flag3=line.find(' ',flag2+1)\n",
    "\n",
    "        accession_uni=(line.strip())[flag1+1:flag2]\n",
    "        id_uni=(line.strip())[flag2+1:flag3]\n",
    "\n",
    "        uniprotAccessions.append(accession_uni)\n",
    "        uniprotIds.append(id_uni)   \n",
    "\n",
    "dfGeneral = pd.DataFrame(list(zip(uniprotAccessions, uniprotIds)),\n",
    "               columns =['uniprotAccession', 'uniprotId'])\n",
    "\n",
    "fileSP.close()\n",
    "\n",
    "print(countTR,countSP)"
   ]
  },
  {
   "cell_type": "code",
   "execution_count": 31,
   "id": "ee7b4c4a-7e19-4dd3-a533-93b40fe51828",
   "metadata": {},
   "outputs": [
    {
     "data": {
      "text/html": [
       "<div>\n",
       "<style scoped>\n",
       "    .dataframe tbody tr th:only-of-type {\n",
       "        vertical-align: middle;\n",
       "    }\n",
       "\n",
       "    .dataframe tbody tr th {\n",
       "        vertical-align: top;\n",
       "    }\n",
       "\n",
       "    .dataframe thead th {\n",
       "        text-align: right;\n",
       "    }\n",
       "</style>\n",
       "<table border=\"1\" class=\"dataframe\">\n",
       "  <thead>\n",
       "    <tr style=\"text-align: right;\">\n",
       "      <th></th>\n",
       "      <th>uniprotAccession</th>\n",
       "      <th>uniprotId</th>\n",
       "    </tr>\n",
       "  </thead>\n",
       "  <tbody>\n",
       "    <tr>\n",
       "      <th>0</th>\n",
       "      <td>Q6GZX4</td>\n",
       "      <td>001R_FRG3G</td>\n",
       "    </tr>\n",
       "    <tr>\n",
       "      <th>1</th>\n",
       "      <td>Q6GZX3</td>\n",
       "      <td>002L_FRG3G</td>\n",
       "    </tr>\n",
       "    <tr>\n",
       "      <th>2</th>\n",
       "      <td>Q197F8</td>\n",
       "      <td>002R_IIV3</td>\n",
       "    </tr>\n",
       "    <tr>\n",
       "      <th>3</th>\n",
       "      <td>Q197F7</td>\n",
       "      <td>003L_IIV3</td>\n",
       "    </tr>\n",
       "    <tr>\n",
       "      <th>4</th>\n",
       "      <td>Q6GZX2</td>\n",
       "      <td>003R_FRG3G</td>\n",
       "    </tr>\n",
       "    <tr>\n",
       "      <th>...</th>\n",
       "      <td>...</td>\n",
       "      <td>...</td>\n",
       "    </tr>\n",
       "    <tr>\n",
       "      <th>1126912</th>\n",
       "      <td>Q8VZF4</td>\n",
       "      <td>ZRK3_ARATH</td>\n",
       "    </tr>\n",
       "    <tr>\n",
       "      <th>1126913</th>\n",
       "      <td>A0A178VE74</td>\n",
       "      <td>ZRK4_ARATH</td>\n",
       "    </tr>\n",
       "    <tr>\n",
       "      <th>1126914</th>\n",
       "      <td>Q9SVZ0</td>\n",
       "      <td>ZRK6_ARATH</td>\n",
       "    </tr>\n",
       "    <tr>\n",
       "      <th>1126915</th>\n",
       "      <td>F4J3H7</td>\n",
       "      <td>ZRK7_ARATH</td>\n",
       "    </tr>\n",
       "    <tr>\n",
       "      <th>1126989</th>\n",
       "      <td>Q9VWN9</td>\n",
       "      <td>ZSWM8_DROME</td>\n",
       "    </tr>\n",
       "  </tbody>\n",
       "</table>\n",
       "<p>568948 rows × 2 columns</p>\n",
       "</div>"
      ],
      "text/plain": [
       "        uniprotAccession    uniprotId\n",
       "0                 Q6GZX4   001R_FRG3G\n",
       "1                 Q6GZX3   002L_FRG3G\n",
       "2                 Q197F8    002R_IIV3\n",
       "3                 Q197F7    003L_IIV3\n",
       "4                 Q6GZX2   003R_FRG3G\n",
       "...                  ...          ...\n",
       "1126912           Q8VZF4   ZRK3_ARATH\n",
       "1126913       A0A178VE74   ZRK4_ARATH\n",
       "1126914           Q9SVZ0   ZRK6_ARATH\n",
       "1126915           F4J3H7   ZRK7_ARATH\n",
       "1126989           Q9VWN9  ZSWM8_DROME\n",
       "\n",
       "[568948 rows x 2 columns]"
      ]
     },
     "execution_count": 31,
     "metadata": {},
     "output_type": "execute_result"
    }
   ],
   "source": [
    "dfGeneral = dfGeneral.drop_duplicates()\n",
    "dfGeneral"
   ]
  },
  {
   "cell_type": "code",
   "execution_count": 32,
   "id": "73b5d80e-3f17-485e-a949-91b6f6f676da",
   "metadata": {},
   "outputs": [],
   "source": [
    "np.savetxt(r'SP_collection.txt', dfGeneral.values, fmt='%s')"
   ]
  },
  {
   "cell_type": "code",
   "execution_count": null,
   "id": "671dbb23-4835-43ae-9c73-71aac8f2e759",
   "metadata": {},
   "outputs": [],
   "source": []
  }
 ],
 "metadata": {
  "kernelspec": {
   "display_name": "dmpfold_kernel",
   "language": "python",
   "name": "dmpfold_kernel"
  },
  "language_info": {
   "codemirror_mode": {
    "name": "ipython",
    "version": 3
   },
   "file_extension": ".py",
   "mimetype": "text/x-python",
   "name": "python",
   "nbconvert_exporter": "python",
   "pygments_lexer": "ipython3",
   "version": "3.7.11"
  }
 },
 "nbformat": 4,
 "nbformat_minor": 5
}
